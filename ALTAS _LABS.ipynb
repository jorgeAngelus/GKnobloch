{
 "cells": [
  {
   "cell_type": "code",
   "execution_count": null,
   "metadata": {},
   "outputs": [
    {
     "ename": "",
     "evalue": "",
     "output_type": "error",
     "traceback": [
      "\u001b[1;31mRunning cells with 'Python 3.10.4 64-bit (windows store)' requires ipykernel package.\n",
      "Run the following command to install 'ipykernel' into the Python environment. \n",
      "Command: 'C:/Users/jmaldonado/AppData/Local/Microsoft/WindowsApps/python3.10.exe -m pip install ipykernel -U --user --force-reinstall'"
     ]
    }
   ],
   "source": [
    "import pandas as pd\n",
    "carpetaMes=input(\"Nombre de la carpeta del mes\")\n",
    "ruta = \"C:/LABORATORIOS/ALTAS/\"+ carpetaMes + \"altas.xlsx\"\n",
    "\n",
    "myfile = pd.read_excel(ruta,\"ndftw\")"
   ]
  },
  {
   "cell_type": "code",
   "execution_count": 19,
   "metadata": {},
   "outputs": [],
   "source": [
    "EUROFARMA = myfile[(myfile.Alta==\"ALTA\") & (myfile.CT=='C09C0')|(myfile.CT=='C09D1')|(myfile.CT=='A10N1')|(myfile.CT=='A10N3')|(myfile.CT=='M04A0')|(myfile.CT=='C05C0')|(myfile.CT=='C05B0')|(myfile.CT=='J01D1')|(myfile.CT=='A11A1')]\n",
    "EUROFARMA\n",
    "\n",
    "EUROFARMA.to_excel(\"D:/GKNOBLOCH/B&L/ALTAS/EUROFARMA.xlsx\",\"eurofarma\") #GENERA UN EXCEL"
   ]
  },
  {
   "cell_type": "code",
   "execution_count": 20,
   "metadata": {},
   "outputs": [],
   "source": [
    "BIOCODEX = myfile[(myfile.Alta==\"ALTA\") & (myfile.CT=='V06C0')|(myfile.CT=='1')|(myfile.CT=='A07F0')]\n",
    "#BIOCODEX.groupby(['Marca','Presentacion','Genero','CT','Lab','Fecha'])\n",
    "BIOCODEX\n",
    "BIOCODEX.to_excel(\"D:/GKNOBLOCH/B&L/ALTAS/BIOCODEX.xlsx\",\"biocodex\") #GENERA UN EXCEL"
   ]
  },
  {
   "cell_type": "code",
   "execution_count": 21,
   "metadata": {},
   "outputs": [],
   "source": [
    "BL = myfile[(myfile.Alta==\"ALTA\") & (myfile.CT.str.startswith(\"S01\"))]\n",
    "BL\n",
    "BL.to_excel(\"D:/GKNOBLOCH/B&L/ALTAS/BL.xlsx\",\"bausch\") #GENERA UN EXCEL"
   ]
  },
  {
   "cell_type": "code",
   "execution_count": 22,
   "metadata": {},
   "outputs": [],
   "source": [
    "Bayer = myfile[(myfile.Alta==\"ALTA\") & ((myfile.CT.str.startswith(\"A02A\"))|(myfile.CT.str.startswith(\"R01\"))|(myfile.CT=='88A10')|(myfile.CT=='88A50')|(myfile.CT=='88B2A')|(myfile.CT=='88B30')|(myfile.CT=='A03A0')|(myfile.CT=='A03C0')|(myfile.CT=='A03D0')|(myfile.CT=='A03E0')|(myfile.CT=='A07F0')|(myfile.CT=='A07H0')|(myfile.CT=='A07X0')|(myfile.CT=='R06A0')| (myfile.CT=='H02B0')|(myfile.CT=='A11A1')|(myfile.CT=='A11A4')|(myfile.CT=='A11B1')|(myfile.CT=='A11B2')|(myfile.CT=='A11B4')|(myfile.CT=='A11C3')|(myfile.CT=='A11G1')|(myfile.CT=='A11G2')|(myfile.CT=='B03A1')|(myfile.CT=='B03A2')|(myfile.CT=='D02A0')|(myfile.CT=='D03A1')|(myfile.CT=='D03A9')|(myfile.CT=='D05X0')|(myfile.CT=='D07A0')|(myfile.CT=='D08A0')|(myfile.CT=='D11A0')|(myfile.CT=='G01B0')|(myfile.CT=='G02X9'))]\n",
    "Bayer\n",
    "Bayer.to_excel(\"D:/GKNOBLOCH/B&L/ALTAS/Bayer.xlsx\",\"bayer\") #GENERA UN EXCEL"
   ]
  }
 ],
 "metadata": {
  "kernelspec": {
   "display_name": "Python 3",
   "language": "python",
   "name": "python3"
  },
  "language_info": {
   "codemirror_mode": {
    "name": "ipython",
    "version": 3
   },
   "file_extension": ".py",
   "mimetype": "text/x-python",
   "name": "python",
   "nbconvert_exporter": "python",
   "pygments_lexer": "ipython3",
   "version": "3.10.4"
  }
 },
 "nbformat": 4,
 "nbformat_minor": 4
}
